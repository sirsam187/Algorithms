{
 "cells": [
  {
   "cell_type": "markdown",
   "id": "ffe06efd",
   "metadata": {},
   "source": [
    "# SF Practical"
   ]
  },
  {
   "cell_type": "markdown",
   "id": "a8132d9c",
   "metadata": {},
   "source": [
    "## FIFO Disc Scheduling"
   ]
  },
  {
   "cell_type": "code",
   "execution_count": 2,
   "id": "a7aafa97",
   "metadata": {},
   "outputs": [
    {
     "name": "stdout",
     "output_type": "stream",
     "text": [
      "0 199\n"
     ]
    }
   ],
   "source": [
    "start, end= map(int, input().split())"
   ]
  },
  {
   "cell_type": "code",
   "execution_count": 3,
   "id": "536dd29c",
   "metadata": {},
   "outputs": [
    {
     "name": "stdout",
     "output_type": "stream",
     "text": [
      "Enter the current position of read write head 50\n"
     ]
    }
   ],
   "source": [
    "last= int(input(\"Enter the current position of read write head \"))"
   ]
  },
  {
   "cell_type": "code",
   "execution_count": 4,
   "id": "59467194",
   "metadata": {},
   "outputs": [
    {
     "name": "stdout",
     "output_type": "stream",
     "text": [
      "Enter number of positions 7\n"
     ]
    }
   ],
   "source": [
    "n= int(input(\"Enter number of positions \"))"
   ]
  },
  {
   "cell_type": "code",
   "execution_count": 6,
   "id": "04dac9a3",
   "metadata": {},
   "outputs": [
    {
     "name": "stdout",
     "output_type": "stream",
     "text": [
      "82\n",
      "170\n",
      "43\n",
      "140\n",
      "24\n",
      "16\n",
      "190\n"
     ]
    }
   ],
   "source": [
    "lst= []\n",
    "for i in range (n):\n",
    "    lst.append(int(input()))"
   ]
  },
  {
   "cell_type": "code",
   "execution_count": 7,
   "id": "b6bf6a28",
   "metadata": {},
   "outputs": [
    {
     "name": "stdout",
     "output_type": "stream",
     "text": [
      "Total cost= 642\n"
     ]
    }
   ],
   "source": [
    "ans= 0\n",
    "for i in range(n):\n",
    "    ans+= abs(lst[i]-last)\n",
    "    last= lst[i]\n",
    "    \n",
    "print(f\"Total cost= {ans}\")"
   ]
  },
  {
   "cell_type": "code",
   "execution_count": 8,
   "id": "a974498f",
   "metadata": {},
   "outputs": [
    {
     "data": {
      "text/plain": [
       "[50, 82, 170, 43, 140, 24, 16, 190]"
      ]
     },
     "execution_count": 8,
     "metadata": {},
     "output_type": "execute_result"
    }
   ],
   "source": [
    "lst.insert(0, 50)\n",
    "lst"
   ]
  },
  {
   "cell_type": "code",
   "execution_count": 27,
   "id": "ce39588e",
   "metadata": {},
   "outputs": [
    {
     "data": {
      "image/png": "[encoded data removed]",
      "text/plain": [
       "<Figure size 640x480 with 1 Axes>"
      ]
     },
     "metadata": {},
     "output_type": "display_data"
    }
   ],
   "source": [
    "import matplotlib.pyplot as plt\n",
    "\n",
    "x_values = lst\n",
    "y_values = list(range(0, len(lst)))\n",
    "\n",
    "fig, ax = plt.subplots()\n",
    "ax.plot(x_values, y_values)\n",
    "\n",
    "ax.invert_yaxis()\n",
    "ax.set_yticks([])\n",
    "ax.xaxis.tick_top()\n",
    "\n",
    "plt.show()"
   ]
  },
  {
   "cell_type": "markdown",
   "id": "e5a685cb",
   "metadata": {},
   "source": [
    "## SSTF"
   ]
  },
  {
   "cell_type": "code",
   "execution_count": 42,
   "id": "e3ac8744",
   "metadata": {},
   "outputs": [
    {
     "name": "stdout",
     "output_type": "stream",
     "text": [
      "0 199\n"
     ]
    }
   ],
   "source": [
    "start, end= map(int, input().split())"
   ]
  },
  {
   "cell_type": "code",
   "execution_count": 43,
   "id": "57b7fdd5",
   "metadata": {},
   "outputs": [
    {
     "name": "stdout",
     "output_type": "stream",
     "text": [
      "Enter the current position of read-write head 50\n"
     ]
    }
   ],
   "source": [
    "current= int(input(\"Enter the current position of read-write head \"))"
   ]
  },
  {
   "cell_type": "code",
   "execution_count": 44,
   "id": "e1d5949e",
   "metadata": {},
   "outputs": [
    {
     "name": "stdout",
     "output_type": "stream",
     "text": [
      "Enter the number of processes 7\n"
     ]
    }
   ],
   "source": [
    "n= int(input(\"Enter the number of processes \"))"
   ]
  },
  {
   "cell_type": "code",
   "execution_count": 69,
   "id": "bfecc12f",
   "metadata": {},
   "outputs": [
    {
     "name": "stdout",
     "output_type": "stream",
     "text": [
      "82\n",
      "170\n",
      "43\n",
      "140\n",
      "24\n",
      "16\n",
      "190\n"
     ]
    }
   ],
   "source": [
    "lst= []\n",
    "for i in range (n):\n",
    "    lst.append(int(input()))"
   ]
  },
  {
   "cell_type": "code",
   "execution_count": 70,
   "id": "c2410395",
   "metadata": {},
   "outputs": [
    {
     "data": {
      "text/plain": [
       "[82, 170, 43, 140, 24, 16, 190]"
      ]
     },
     "execution_count": 70,
     "metadata": {},
     "output_type": "execute_result"
    }
   ],
   "source": [
    "lst"
   ]
  },
  {
   "cell_type": "code",
   "execution_count": 71,
   "id": "a3f6e2cb",
   "metadata": {},
   "outputs": [
    {
     "data": {
      "text/plain": [
       "[16, 24, 43, 82, 140, 170, 190]"
      ]
     },
     "execution_count": 71,
     "metadata": {},
     "output_type": "execute_result"
    }
   ],
   "source": [
    "lst.sort()\n",
    "lst"
   ]
  },
  {
   "cell_type": "code",
   "execution_count": 72,
   "id": "ec8c7b5b",
   "metadata": {},
   "outputs": [
    {
     "name": "stdout",
     "output_type": "stream",
     "text": [
      "[50, 43, 24, 16, 82, 140, 170, 190]\n",
      "Total cost= 208\n"
     ]
    }
   ],
   "source": [
    "mini= 1000000\n",
    "index= 0\n",
    "for i in range(0, len(lst)):\n",
    "    if(abs(current-lst[i]) < mini):\n",
    "        mini= abs(current-lst[i])\n",
    "        index= i\n",
    "        \n",
    "ans= []\n",
    "ans.append(current)\n",
    "cost= mini\n",
    "\n",
    "while(len(lst) > 1):\n",
    "    \n",
    "    ans.append(lst[index])\n",
    "    if(index== 0):\n",
    "        cost+= lst[index+1]- lst[index]\n",
    "        lst.pop(index)\n",
    "    \n",
    "    elif(index== len(lst)-1):\n",
    "        cost+= lst[index]- lst[index-1]\n",
    "        index= index-1\n",
    "        lst.pop(index+1)\n",
    "    \n",
    "    elif(lst[index] - lst[index-1] < lst[index+1]- lst[index]):\n",
    "        cost+= lst[index]- lst[index-1]\n",
    "        index= index-1\n",
    "        lst.pop(index+1)\n",
    "        \n",
    "    else:\n",
    "        cost+= lst[index+1]- lst[index]\n",
    "        lst.pop(index)\n",
    "\n",
    "ans.append(lst[0])\n",
    "print(ans)\n",
    "print(f\"Total cost= {cost}\")"
   ]
  },
  {
   "cell_type": "code",
   "execution_count": 81,
   "id": "59b41bdb",
   "metadata": {},
   "outputs": [
    {
     "data": {
      "image/png": "[encoded data removed]",
      "text/plain": [
       "<Figure size 640x480 with 1 Axes>"
      ]
     },
     "metadata": {},
     "output_type": "display_data"
    }
   ],
   "source": [
    "import matplotlib.pyplot as plt\n",
    "\n",
    "x_values = ans\n",
    "y_values = list(range(0, len(ans)))\n",
    "\n",
    "fig, ax = plt.subplots()\n",
    "ax.plot(x_values, y_values)\n",
    "\n",
    "ax.invert_yaxis()\n",
    "ax.set_yticks([])\n",
    "ax.xaxis.tick_top()\n",
    "\n",
    "for i in range(len(x_values)):\n",
    "    ax.text(x_values[i], y_values[i], str(x_values[i]))\n",
    "\n",
    "plt.show()\n"
   ]
  },
  {
   "cell_type": "markdown",
   "id": "e60534d0",
   "metadata": {},
   "source": [
    "## SCAN"
   ]
  },
  {
   "cell_type": "code",
   "execution_count": 76,
   "id": "610ba37e",
   "metadata": {},
   "outputs": [
    {
     "name": "stdout",
     "output_type": "stream",
     "text": [
      "0 199\n"
     ]
    }
   ],
   "source": [
    "start, end= map(int, input().split())"
   ]
  },
  {
   "cell_type": "code",
   "execution_count": 77,
   "id": "64d7af52",
   "metadata": {},
   "outputs": [
    {
     "name": "stdout",
     "output_type": "stream",
     "text": [
      "Enter the number of processses 7\n",
      "82\n",
      "170\n",
      "43\n",
      "140\n",
      "24\n",
      "16\n",
      "190\n"
     ]
    }
   ],
   "source": [
    "n= int(input(\"Enter the number of processses \"))\n",
    "arr= []\n",
    "for i in range (n):\n",
    "    arr.append(int(input()))"
   ]
  },
  {
   "cell_type": "code",
   "execution_count": 78,
   "id": "d4a0c662",
   "metadata": {},
   "outputs": [
    {
     "data": {
      "text/plain": [
       "[16, 24, 43, 82, 140, 170, 190]"
      ]
     },
     "execution_count": 78,
     "metadata": {},
     "output_type": "execute_result"
    }
   ],
   "source": [
    "arr.sort()\n",
    "arr"
   ]
  },
  {
   "cell_type": "code",
   "execution_count": 79,
   "id": "98b9e491",
   "metadata": {},
   "outputs": [
    {
     "name": "stdout",
     "output_type": "stream",
     "text": [
      "Enter the current position of read write head 50\n"
     ]
    }
   ],
   "source": [
    "current= int(input(\"Enter the current position of read write head \"))"
   ]
  },
  {
   "cell_type": "code",
   "execution_count": 89,
   "id": "0fd194f5",
   "metadata": {},
   "outputs": [
    {
     "name": "stdout",
     "output_type": "stream",
     "text": [
      "[50, 82, 140, 170, 190, 199, 43, 24, 16]\n",
      "Total cost= 332\n"
     ]
    }
   ],
   "source": [
    "pivot= 0\n",
    "last= 50\n",
    "cost= 0\n",
    "ans= []\n",
    "for i in range(n):\n",
    "    if(i > 0 and arr[i] > current and arr[i-1] < current):\n",
    "        pivot= i-1\n",
    "        \n",
    "    if(arr[i] > current):\n",
    "        cost+= abs(arr[i]- last)\n",
    "        ans.append(arr[i])\n",
    "        last= arr[i]\n",
    "        \n",
    "if(last < end):\n",
    "    cost+= end- last\n",
    "    last= end\n",
    "    ans.append(last)\n",
    "        \n",
    "for i in range(pivot, -1, -1):\n",
    "    cost+= abs(arr[i]- last)\n",
    "    last= arr[i]\n",
    "    ans.append(arr[i])\n",
    "\n",
    "ans.insert(0, current)\n",
    "print(ans)\n",
    "print(f\"Total cost= {cost}\")"
   ]
  },
  {
   "cell_type": "code",
   "execution_count": 93,
   "id": "2ee5ce49",
   "metadata": {},
   "outputs": [
    {
     "data": {
      "image/png": "[encoded data removed]",
      "text/plain": [
       "<Figure size 640x480 with 1 Axes>"
      ]
     },
     "metadata": {},
     "output_type": "display_data"
    }
   ],
   "source": [
    "import matplotlib.pyplot as plt\n",
    "\n",
    "x_values = ans\n",
    "y_values = list(range(0, len(ans)))\n",
    "\n",
    "fig, ax = plt.subplots()\n",
    "ax.plot(x_values, y_values)\n",
    "\n",
    "ax.invert_yaxis()\n",
    "ax.set_yticks([])\n",
    "ax.xaxis.tick_top()\n",
    "\n",
    "for i in range(len(x_values)):\n",
    "    ax.text(x_values[i], y_values[i], str(x_values[i]))\n",
    "\n",
    "plt.show()"
   ]
  },
  {
   "cell_type": "markdown",
   "id": "52827ec1",
   "metadata": {},
   "source": [
    "## LOOK"
   ]
  },
  {
   "cell_type": "code",
   "execution_count": 91,
   "id": "eaad8450",
   "metadata": {},
   "outputs": [
    {
     "name": "stdout",
     "output_type": "stream",
     "text": [
      "0 199\n"
     ]
    }
   ],
   "source": [
    "start, end= map(int, input().split())"
   ]
  },
  {
   "cell_type": "code",
   "execution_count": 94,
   "id": "89c494ff",
   "metadata": {},
   "outputs": [
    {
     "name": "stdout",
     "output_type": "stream",
     "text": [
      "Enter the number of processes 7\n",
      "82\n",
      "170\n",
      "43\n",
      "140\n",
      "24\n",
      "16\n",
      "190\n"
     ]
    }
   ],
   "source": [
    "n= int(input(\"Enter the number of processes \"))\n",
    "arr= []\n",
    "for i in range(n):\n",
    "    arr.append(int(input()))"
   ]
  },
  {
   "cell_type": "code",
   "execution_count": 95,
   "id": "9a62d2f6",
   "metadata": {},
   "outputs": [
    {
     "name": "stdout",
     "output_type": "stream",
     "text": [
      "Enter the current position of read-write head 50\n"
     ]
    }
   ],
   "source": [
    "current= int(input(\"Enter the current position of read-write head \"))"
   ]
  },
  {
   "cell_type": "code",
   "execution_count": 98,
   "id": "589f9537",
   "metadata": {},
   "outputs": [
    {
     "data": {
      "text/plain": [
       "[16, 24, 43, 82, 140, 170, 190]"
      ]
     },
     "execution_count": 98,
     "metadata": {},
     "output_type": "execute_result"
    }
   ],
   "source": [
    "arr.sort()\n",
    "arr"
   ]
  },
  {
   "cell_type": "code",
   "execution_count": 99,
   "id": "5fc7de31",
   "metadata": {},
   "outputs": [
    {
     "name": "stdout",
     "output_type": "stream",
     "text": [
      "[50, 82, 140, 170, 190, 43, 24, 16]\n",
      "Total cost= 314\n"
     ]
    }
   ],
   "source": [
    "ans= []\n",
    "cost= 0\n",
    "last= 50\n",
    "pivot= 0\n",
    "\n",
    "ans.append(current)\n",
    "for i in range(n):\n",
    "    \n",
    "    if(i>0 and arr[i] > current and arr[i-1] < current):\n",
    "        pivot= i-1\n",
    "        \n",
    "    if(arr[i]>=last):\n",
    "        ans.append(arr[i])\n",
    "        cost+= (arr[i]-last)\n",
    "        last= arr[i]\n",
    "        \n",
    "for i in range(pivot, -1, -1):\n",
    "    cost+= (last- arr[i])\n",
    "    last= arr[i]\n",
    "    ans.append(arr[i])\n",
    "    \n",
    "print(ans)\n",
    "print(f\"Total cost= {cost}\")"
   ]
  },
  {
   "cell_type": "code",
   "execution_count": 100,
   "id": "1680796d",
   "metadata": {},
   "outputs": [
    {
     "data": {
      "image/png": "[encoded data removed]",
      "text/plain": [
       "<Figure size 640x480 with 1 Axes>"
      ]
     },
     "metadata": {},
     "output_type": "display_data"
    }
   ],
   "source": [
    "import matplotlib.pyplot as plt\n",
    "\n",
    "x_values = ans\n",
    "y_values = list(range(0, len(ans)))\n",
    "\n",
    "fig, ax = plt.subplots()\n",
    "ax.plot(x_values, y_values)\n",
    "\n",
    "ax.invert_yaxis()\n",
    "ax.set_yticks([])\n",
    "ax.xaxis.tick_top()\n",
    "\n",
    "for i in range(len(x_values)):\n",
    "    ax.text(x_values[i], y_values[i], str(x_values[i]))\n",
    "\n",
    "plt.show()"
   ]
  },
  {
   "cell_type": "markdown",
   "id": "af6196b3",
   "metadata": {},
   "source": [
    "## C-Look"
   ]
  },
  {
   "cell_type": "code",
   "execution_count": 101,
   "id": "e84ad540",
   "metadata": {},
   "outputs": [
    {
     "name": "stdout",
     "output_type": "stream",
     "text": [
      "0 199\n"
     ]
    }
   ],
   "source": [
    "start, end= map(int, input().split())"
   ]
  },
  {
   "cell_type": "code",
   "execution_count": 102,
   "id": "bf27d94c",
   "metadata": {},
   "outputs": [
    {
     "name": "stdout",
     "output_type": "stream",
     "text": [
      "82 170 43 140 24 16 190\n"
     ]
    }
   ],
   "source": [
    "arr= list(map(int, input().split()))"
   ]
  },
  {
   "cell_type": "code",
   "execution_count": 104,
   "id": "67dec7fc",
   "metadata": {},
   "outputs": [
    {
     "name": "stdout",
     "output_type": "stream",
     "text": [
      "Enter the current position of read-write head 50\n"
     ]
    }
   ],
   "source": [
    "current= int(input(\"Enter the current position of read-write head \"))"
   ]
  },
  {
   "cell_type": "code",
   "execution_count": 105,
   "id": "8b14d0c1",
   "metadata": {},
   "outputs": [
    {
     "data": {
      "text/plain": [
       "[16, 24, 43, 82, 140, 170, 190]"
      ]
     },
     "execution_count": 105,
     "metadata": {},
     "output_type": "execute_result"
    }
   ],
   "source": [
    "arr.sort()\n",
    "arr"
   ]
  },
  {
   "cell_type": "code",
   "execution_count": 107,
   "id": "fa00dc21",
   "metadata": {},
   "outputs": [
    {
     "name": "stdout",
     "output_type": "stream",
     "text": [
      "[16, 24, 43, 82, 140, 170, 190]\n",
      "Total cost is= 341\n"
     ]
    }
   ],
   "source": [
    "last= 50\n",
    "cost= 0\n",
    "ans= [current]\n",
    "for i in range(n):\n",
    "    \n",
    "    if(arr[i] >= current):\n",
    "        cost+= (arr[i]-last)\n",
    "        last= arr[i]\n",
    "        ans.append(arr[i])\n",
    "        \n",
    "for i in range(n):\n",
    "    if(arr[i] > current):\n",
    "        break\n",
    "        \n",
    "    cost+=abs(arr[i]- last)\n",
    "    last= arr[i]\n",
    "    ans.append(arr[i])\n",
    "    \n",
    "print(arr)\n",
    "print(f\"Total cost is= {cost}\")"
   ]
  },
  {
   "cell_type": "code",
   "execution_count": 108,
   "id": "4470e5da",
   "metadata": {},
   "outputs": [
    {
     "data": {
      "image/png": "[encoded data removed]",
      "text/plain": [
       "<Figure size 640x480 with 1 Axes>"
      ]
     },
     "metadata": {},
     "output_type": "display_data"
    }
   ],
   "source": [
    "import matplotlib.pyplot as plt\n",
    "\n",
    "x_values = ans\n",
    "y_values = list(range(0, len(ans)))\n",
    "\n",
    "fig, ax = plt.subplots()\n",
    "ax.plot(x_values, y_values)\n",
    "\n",
    "ax.invert_yaxis()\n",
    "ax.set_yticks([])\n",
    "ax.xaxis.tick_top()\n",
    "\n",
    "for i in range(len(x_values)):\n",
    "    ax.text(x_values[i], y_values[i], str(x_values[i]))\n",
    "\n",
    "plt.show()"
   ]
  },
  {
   "cell_type": "markdown",
   "id": "d4670ce5",
   "metadata": {},
   "source": [
    "## C-Scan"
   ]
  },
  {
   "cell_type": "code",
   "execution_count": 109,
   "id": "464c4d79",
   "metadata": {},
   "outputs": [
    {
     "name": "stdout",
     "output_type": "stream",
     "text": [
      "0 199\n"
     ]
    }
   ],
   "source": [
    "start, end= map(int, input().split())"
   ]
  },
  {
   "cell_type": "code",
   "execution_count": 110,
   "id": "ca221797",
   "metadata": {},
   "outputs": [
    {
     "name": "stdout",
     "output_type": "stream",
     "text": [
      "Enter the current position of read-write head 50\n"
     ]
    }
   ],
   "source": [
    "current= int(input(\"Enter the current position of read-write head \"))"
   ]
  },
  {
   "cell_type": "code",
   "execution_count": 111,
   "id": "41fd9a9d",
   "metadata": {},
   "outputs": [
    {
     "name": "stdout",
     "output_type": "stream",
     "text": [
      "Enter the number of processes 7\n",
      "82 170 43 140 24 16 190\n"
     ]
    }
   ],
   "source": [
    "n= int(input(\"Enter the number of processes \"))\n",
    "arr= list(map(int, input().split()))"
   ]
  },
  {
   "cell_type": "code",
   "execution_count": 112,
   "id": "9e437eac",
   "metadata": {},
   "outputs": [
    {
     "name": "stdout",
     "output_type": "stream",
     "text": [
      "Enter the current position of read-write head 50\n"
     ]
    }
   ],
   "source": [
    "current= int(input(\"Enter the current position of read-write head \"))"
   ]
  },
  {
   "cell_type": "code",
   "execution_count": 113,
   "id": "b0f297f4",
   "metadata": {},
   "outputs": [
    {
     "data": {
      "text/plain": [
       "[16, 24, 43, 82, 140, 170, 190]"
      ]
     },
     "execution_count": 113,
     "metadata": {},
     "output_type": "execute_result"
    }
   ],
   "source": [
    "arr.sort()\n",
    "arr"
   ]
  },
  {
   "cell_type": "code",
   "execution_count": 116,
   "id": "634b1684",
   "metadata": {},
   "outputs": [
    {
     "name": "stdout",
     "output_type": "stream",
     "text": [
      "[50, 82, 140, 170, 190, 199, 0, 16, 24, 43]\n",
      "Total cost= 391\n"
     ]
    }
   ],
   "source": [
    "ans= []\n",
    "last= current\n",
    "cost= 0\n",
    "pivot= 0\n",
    "\n",
    "for i in range(n):\n",
    "    \n",
    "    if(i>0 and arr[i]>current and arr[i-1]<current):\n",
    "        pivot= i\n",
    "        \n",
    "    if(arr[i] >= current):\n",
    "        ans.append(arr[i])\n",
    "        cost+= (arr[i]-last)\n",
    "        last= arr[i]\n",
    "        \n",
    "if(end not in ans):\n",
    "    ans.append(end)\n",
    "    cost+= (end-last)\n",
    "    last= end\n",
    "    \n",
    "if(start not in ans):\n",
    "    ans.append(start)\n",
    "    cost+= (last-start)\n",
    "    last= start\n",
    "    \n",
    "for i in range(0, pivot):\n",
    "    \n",
    "    cost+= (arr[i]- last)\n",
    "    last= arr[i]\n",
    "    ans.append(arr[i])\n",
    "   \n",
    "if(current not in ans):\n",
    "    ans.insert(0, current)\n",
    "print(ans)\n",
    "print(f\"Total cost= {cost}\")"
   ]
  },
  {
   "cell_type": "code",
   "execution_count": 117,
   "id": "f7949aab",
   "metadata": {},
   "outputs": [
    {
     "data": {
      "image/png": "[encoded data removed]",
      "text/plain": [
       "<Figure size 640x480 with 1 Axes>"
      ]
     },
     "metadata": {},
     "output_type": "display_data"
    }
   ],
   "source": [
    "import matplotlib.pyplot as plt\n",
    "\n",
    "x_values = ans\n",
    "y_values = list(range(0, len(ans)))\n",
    "\n",
    "fig, ax = plt.subplots()\n",
    "ax.plot(x_values, y_values)\n",
    "\n",
    "ax.invert_yaxis()\n",
    "ax.set_yticks([])\n",
    "ax.xaxis.tick_top()\n",
    "\n",
    "for i in range(len(x_values)):\n",
    "    ax.text(x_values[i], y_values[i], str(x_values[i]))\n",
    "\n",
    "plt.show()"
   ]
  },
  {
   "cell_type": "markdown",
   "id": "101458ca",
   "metadata": {},
   "source": [
    "# CPU Scheduling algorithms"
   ]
  },
  {
   "cell_type": "markdown",
   "id": "72c0b554",
   "metadata": {},
   "source": [
    "## FCFS"
   ]
  },
  {
   "cell_type": "code",
   "execution_count": 138,
   "id": "8a15a129",
   "metadata": {},
   "outputs": [],
   "source": [
    "class process():\n",
    "    \n",
    "    def __init__(self, name, at, bt):\n",
    "        self.name= name\n",
    "        self.arrival_time= at\n",
    "        self.burst_time= bt\n",
    "        self.tt= 0\n",
    "        self.wt= 0\n",
    "        return "
   ]
  },
  {
   "cell_type": "code",
   "execution_count": 139,
   "id": "cd4bc53f",
   "metadata": {},
   "outputs": [
    {
     "name": "stdout",
     "output_type": "stream",
     "text": [
      "Enter number of processes 5\n"
     ]
    }
   ],
   "source": [
    "n= int(input(\"Enter number of processes \"))"
   ]
  },
  {
   "cell_type": "code",
   "execution_count": 140,
   "id": "73eacaa9",
   "metadata": {},
   "outputs": [
    {
     "name": "stdout",
     "output_type": "stream",
     "text": [
      "Enter name of process P4\n",
      "Enter at and bt 9 5\n",
      "Enter name of process P5\n",
      "Enter at and bt 12 5\n",
      "Enter name of process P2\n",
      "Enter at and bt 1 5\n",
      "Enter name of process P1\n",
      "Enter at and bt 0 3\n",
      "Enter name of process P3\n",
      "Enter at and bt 3 2\n"
     ]
    }
   ],
   "source": [
    "lst= []\n",
    "\n",
    "for i in range(n):\n",
    "    name= input(\"Enter name of process \")\n",
    "    at, bt= map(int, input(\"Enter at and bt \").split())\n",
    "    temp= process(name, at, bt)\n",
    "    lst.append(temp)"
   ]
  },
  {
   "cell_type": "code",
   "execution_count": 141,
   "id": "7cffeef7",
   "metadata": {},
   "outputs": [],
   "source": [
    "lst.sort(key= lambda x: x.arrival_time)"
   ]
  },
  {
   "cell_type": "code",
   "execution_count": 143,
   "id": "e7245901",
   "metadata": {},
   "outputs": [
    {
     "name": "stdout",
     "output_type": "stream",
     "text": [
      "Name  AT  BT  TAT  WT\n",
      "P1    0   3   3   0\n",
      "P2    1   5   7   2\n",
      "P3    3   2   7   5\n",
      "P4    9   5   6   1\n",
      "P5    12   5   8   3\n",
      "AVG Turn around time:- 6.2\n",
      "AVG waiting time:- 2.2\n"
     ]
    }
   ],
   "source": [
    "time= lst[0].arrival_time\n",
    "total_tt= 0\n",
    "total_wt= 0\n",
    "for i in lst:\n",
    "    \n",
    "    if(time < i.arrival_time):\n",
    "        time= i.arrival_time\n",
    "        \n",
    "    time+= i.burst_time\n",
    "    i.tt= time- i.arrival_time\n",
    "    i.wt= i.tt- i.burst_time\n",
    "    \n",
    "    total_tt+= i.tt\n",
    "    total_wt+= i.wt\n",
    "    \n",
    "print(\"Name  AT  BT  TAT  WT\")\n",
    "for i in lst:\n",
    "    print(f\"{i.name}    {i.arrival_time}   {i.burst_time}   {i.tt}   {i.wt}\")\n",
    "    \n",
    "print(f\"AVG Turn around time:- {total_tt/n}\")\n",
    "print(f\"AVG waiting time:- {total_wt/n}\")"
   ]
  },
  {
   "cell_type": "markdown",
   "id": "911b09fd",
   "metadata": {},
   "source": [
    "## SJF"
   ]
  },
  {
   "cell_type": "code",
   "execution_count": 170,
   "id": "4b38b867",
   "metadata": {},
   "outputs": [
    {
     "name": "stdout",
     "output_type": "stream",
     "text": [
      "Enter number of processes 5\n"
     ]
    }
   ],
   "source": [
    "n= int(input(\"Enter number of processes \"))"
   ]
  },
  {
   "cell_type": "code",
   "execution_count": 182,
   "id": "fe335a1a",
   "metadata": {},
   "outputs": [
    {
     "name": "stdout",
     "output_type": "stream",
     "text": [
      "Enter name P1\n",
      "Enter at and bt 0 2\n",
      "Enter name P2\n",
      "Enter at and bt 1 5\n",
      "Enter name P3\n",
      "Enter at and bt 2 3\n",
      "Enter name P4\n",
      "Enter at and bt 3 1\n",
      "Enter name P5\n",
      "Enter at and bt 5 4\n"
     ]
    }
   ],
   "source": [
    "arr= []\n",
    "for i in range(n):\n",
    "    name= input(\"Enter name \")\n",
    "    at, bt= map(int, input(\"Enter at and bt \").split())\n",
    "    temp= process(name, at, bt)\n",
    "    arr.append(temp)"
   ]
  },
  {
   "cell_type": "code",
   "execution_count": 183,
   "id": "839e509c",
   "metadata": {},
   "outputs": [],
   "source": [
    "arr= sorted(arr, key= lambda x: x.arrival_time)"
   ]
  },
  {
   "cell_type": "code",
   "execution_count": 184,
   "id": "3f9f8028",
   "metadata": {},
   "outputs": [
    {
     "name": "stdout",
     "output_type": "stream",
     "text": [
      "0-> P1-> 2-> P3-> 5-> P4-> 6-> P5-> 10-> P2-> 15-> Avg tt:- 5.4, Avg wt:- 2.4\n"
     ]
    }
   ],
   "source": [
    "time= arr[0].arrival_time\n",
    "total_tt= 0\n",
    "total_wt= 0\n",
    "ans= []\n",
    "ans.append(time)\n",
    "for i in range (n):\n",
    "    \n",
    "    if(time < arr[i].arrival_time):\n",
    "        time= arrival_time\n",
    "    \n",
    "    pivot= i\n",
    "    for j in range(i, n):\n",
    "        if(j > pivot and arr[j].arrival_time <= time):\n",
    "            pivot= j\n",
    "            \n",
    "    arr[i:pivot+1]= sorted(arr[i:pivot+1], key= lambda x: x.burst_time)\n",
    "    \n",
    "    ans.append(arr[i].name)\n",
    "    \n",
    "    time+= arr[i].burst_time\n",
    "    \n",
    "    arr[i].tt= time- arr[i].arrival_time\n",
    "    arr[i].wt= arr[i].tt- arr[i].burst_time\n",
    "    \n",
    "    ans.append(time)\n",
    "    \n",
    "    total_tt+= arr[i].tt\n",
    "    total_wt+= arr[i].wt\n",
    "    \n",
    "for i in ans:\n",
    "    print(f\"{i}-> \", end= '')\n",
    "\n",
    "print(f\"Avg tt:- {total_tt/n}, Avg wt:- {total_wt/n}\")"
   ]
  },
  {
   "cell_type": "code",
   "execution_count": 185,
   "id": "75b24509",
   "metadata": {},
   "outputs": [
    {
     "name": "stdout",
     "output_type": "stream",
     "text": [
      "Name  AT  BT  TAT  WT\n",
      "P1    0   2   2   0\n",
      "P3    2   3   3   0\n",
      "P4    3   1   3   2\n",
      "P5    5   4   5   1\n",
      "P2    1   5   14   9\n"
     ]
    }
   ],
   "source": [
    "print(\"Name  AT  BT  TAT  WT\")\n",
    "for i in arr:\n",
    "    print(f\"{i.name}    {i.arrival_time}   {i.burst_time}   {i.tt}   {i.wt}\")"
   ]
  },
  {
   "cell_type": "markdown",
   "id": "bb1328cc",
   "metadata": {},
   "source": [
    "## Priority (lesser the number higher the priority)"
   ]
  },
  {
   "cell_type": "code",
   "execution_count": 209,
   "id": "dec000be",
   "metadata": {},
   "outputs": [],
   "source": [
    "class prs():\n",
    "    \n",
    "    def __init__(self, name, at, bt, priority):\n",
    "        self.name= name\n",
    "        self.at= at\n",
    "        self.bt= bt\n",
    "        self.priority= priority\n",
    "        self.tt= 0\n",
    "        self.wt= 0"
   ]
  },
  {
   "cell_type": "code",
   "execution_count": 210,
   "id": "188ac17c",
   "metadata": {},
   "outputs": [
    {
     "name": "stdout",
     "output_type": "stream",
     "text": [
      "Enter number of processes 5\n",
      "Enter name of process P1\n",
      "0 11 2\n",
      "Enter name of process P2\n",
      "5 28 0\n",
      "Enter name of process P3\n",
      "12 2 3\n",
      "Enter name of process P4\n",
      "2 10 1\n",
      "Enter name of process P5\n",
      "9 16 4\n",
      "P1  0  11  2\n",
      "P2  5  28  0\n",
      "P3  12  2  3\n",
      "P4  2  10  1\n",
      "P5  9  16  4\n"
     ]
    }
   ],
   "source": [
    "n= int(input(\"Enter number of processes \"))\n",
    "arr= []\n",
    "\n",
    "for i in range(n):\n",
    "    name= input(\"Enter name of process \")\n",
    "    at, bt, priority= map(int, input().split())\n",
    "    temp= prs(name, at, bt, priority)\n",
    "    arr.append(temp)\n",
    "    \n",
    "for i in arr:\n",
    "    print(f\"{i.name}  {i.at}  {i.bt}  {i.priority}\")"
   ]
  },
  {
   "cell_type": "code",
   "execution_count": 211,
   "id": "494445a8",
   "metadata": {},
   "outputs": [
    {
     "name": "stdout",
     "output_type": "stream",
     "text": [
      "5\n"
     ]
    }
   ],
   "source": [
    "arr= sorted(arr, key= lambda x: x.at)\n",
    "print(len(arr))"
   ]
  },
  {
   "cell_type": "code",
   "execution_count": 214,
   "id": "adaeb7fd",
   "metadata": {},
   "outputs": [
    {
     "name": "stdout",
     "output_type": "stream",
     "text": [
      "0-> P1-> 11-> P2-> 39-> P4-> 49-> P3-> 51-> P5-> 67-> \n",
      "Avg tt= 37.8, avg wt= 24.4\n"
     ]
    }
   ],
   "source": [
    "time= arr[0].at\n",
    "ans= []\n",
    "total_tt= 0\n",
    "total_wt= 0\n",
    "total_tt= 0\n",
    "total_wt= 0\n",
    "\n",
    "ans.append(time)\n",
    "for i in range(n):\n",
    "    \n",
    "    if(time < arr[i].at):\n",
    "        time= arr[i].at\n",
    "        \n",
    "    pivot= i\n",
    "    for j in range(i, n):\n",
    "        \n",
    "        if(arr[j].at < time):\n",
    "            pivot= j\n",
    "            \n",
    "    arr[i:pivot+1]= sorted(arr[i:pivot+1], key= lambda x: x.priority)\n",
    "    arr[i+1:n]= sorted(arr[i+1:n], key= lambda x: x.at)\n",
    "    \n",
    "    time+= arr[i].bt\n",
    "    \n",
    "    ans.append(arr[i].name)\n",
    "    ans.append(time)\n",
    "    \n",
    "    arr[i].tt= time- arr[i].at\n",
    "    arr[i].wt= arr[i].tt- arr[i].bt\n",
    "    total_tt+= arr[i].tt\n",
    "    total_wt+= arr[i].wt\n",
    "\n",
    "for i in ans:\n",
    "    print(f\"{i}-> \", end= '')\n",
    "\n",
    "print()\n",
    "print(f\"Avg tt= {total_tt/n}, avg wt= {total_wt/n}\")"
   ]
  },
  {
   "cell_type": "code",
   "execution_count": 216,
   "id": "18efa2ab",
   "metadata": {},
   "outputs": [
    {
     "name": "stdout",
     "output_type": "stream",
     "text": [
      "Name  AT  BT  TAT  WT\n",
      "P1    0   11   11   0\n",
      "P2    5   28   34   6\n",
      "P4    2   10   47   37\n",
      "P3    12   2   39   37\n",
      "P5    9   16   58   42\n"
     ]
    }
   ],
   "source": [
    "print(\"Name  AT  BT  TAT  WT\")\n",
    "for i in arr:\n",
    "    print(f\"{i.name}    {i.at}   {i.bt}   {i.tt}   {i.wt}\")"
   ]
  },
  {
   "cell_type": "markdown",
   "id": "47bf9d57",
   "metadata": {},
   "source": [
    "# Memory allocation"
   ]
  },
  {
   "cell_type": "markdown",
   "id": "cfad926e",
   "metadata": {},
   "source": [
    "## First Fit"
   ]
  },
  {
   "cell_type": "code",
   "execution_count": 222,
   "id": "5e2d4375",
   "metadata": {},
   "outputs": [],
   "source": [
    "class pro():\n",
    "    \n",
    "    def __init__(self, name, size):\n",
    "        self.name= name\n",
    "        self.size= size\n",
    "        self.block= -1"
   ]
  },
  {
   "cell_type": "code",
   "execution_count": 227,
   "id": "8600c465",
   "metadata": {},
   "outputs": [
    {
     "name": "stdout",
     "output_type": "stream",
     "text": [
      "Enter number of processes 4\n"
     ]
    }
   ],
   "source": [
    "n= int(input(\"Enter number of processes \"))"
   ]
  },
  {
   "cell_type": "code",
   "execution_count": 228,
   "id": "d75c6d10",
   "metadata": {},
   "outputs": [
    {
     "name": "stdout",
     "output_type": "stream",
     "text": [
      "Enter name of process P1\n",
      "Enter size of process 90\n",
      "Enter name of process P2\n",
      "Enter size of process 50\n",
      "Enter name of process P3\n",
      "Enter size of process 30\n",
      "Enter name of process P4\n",
      "Enter size of process 40\n"
     ]
    }
   ],
   "source": [
    "process= []\n",
    "\n",
    "for i in range(n):\n",
    "    name= input(\"Enter name of process \")\n",
    "    size= int(input(\"Enter size of process \"))\n",
    "    temp= pro(name, size)\n",
    "    process.append(temp)"
   ]
  },
  {
   "cell_type": "code",
   "execution_count": 234,
   "id": "c2943419",
   "metadata": {},
   "outputs": [
    {
     "name": "stdout",
     "output_type": "stream",
     "text": [
      "Enter number of blocks 5\n",
      "20\n",
      "100\n",
      "40\n",
      "200\n",
      "10\n"
     ]
    }
   ],
   "source": [
    "m= int(input(\"Enter number of blocks \"))\n",
    "blocks= []\n",
    "for i in range(m):\n",
    "    blocks.append(int(input()))"
   ]
  },
  {
   "cell_type": "code",
   "execution_count": 235,
   "id": "3fcd452b",
   "metadata": {},
   "outputs": [
    {
     "name": "stdout",
     "output_type": "stream",
     "text": [
      "Name  Size  Block\n",
      "P1    90    2\n",
      "P2    50    4\n",
      "P3    30    3\n",
      "P4    40    4\n"
     ]
    }
   ],
   "source": [
    "for i in process:\n",
    "    \n",
    "    b= False\n",
    "    for j in range(m):\n",
    "        \n",
    "        if(blocks[j] >= i.size):\n",
    "            blocks[j]-= i.size\n",
    "            i.block= j+1\n",
    "            b= True\n",
    "            break\n",
    "    \n",
    "    if(b== False):\n",
    "        i.block= \"Not assigned\"\n",
    "        \n",
    "\n",
    "print(\"Name  Size  Block\")\n",
    "for i in process:\n",
    "    print(f\"{i.name}    {i.size}    {i.block}\")"
   ]
  },
  {
   "cell_type": "markdown",
   "id": "6002e5d9",
   "metadata": {},
   "source": [
    "## Best Fit"
   ]
  },
  {
   "cell_type": "code",
   "execution_count": 9,
   "id": "300c2395",
   "metadata": {},
   "outputs": [],
   "source": [
    "class pro():\n",
    "    \n",
    "    def __init__(self, name, size):\n",
    "        self.name= name\n",
    "        self.size= size\n",
    "        self.block= n-1"
   ]
  },
  {
   "cell_type": "code",
   "execution_count": 10,
   "id": "bb6fa13b",
   "metadata": {},
   "outputs": [
    {
     "name": "stdout",
     "output_type": "stream",
     "text": [
      "Enter number of processes 4\n"
     ]
    }
   ],
   "source": [
    "n= int(input(\"Enter number of processes \"))"
   ]
  },
  {
   "cell_type": "code",
   "execution_count": 14,
   "id": "d3ed421b",
   "metadata": {},
   "outputs": [
    {
     "name": "stdout",
     "output_type": "stream",
     "text": [
      "Enter name of process P1\n",
      "Enter size of process 10\n",
      "Enter name of process P2\n",
      "Enter size of process 30\n",
      "Enter name of process P3\n",
      "Enter size of process 60\n",
      "Enter name of process P4\n",
      "Enter size of process 30\n"
     ]
    }
   ],
   "source": [
    "process= []\n",
    "\n",
    "for i in range(n):\n",
    "    name= input(\"Enter name of process \")\n",
    "    size= int(input(\"Enter size of process \"))\n",
    "    temp= pro(name, size)\n",
    "    process.append(temp)"
   ]
  },
  {
   "cell_type": "code",
   "execution_count": 17,
   "id": "f76ffd89",
   "metadata": {},
   "outputs": [
    {
     "name": "stdout",
     "output_type": "stream",
     "text": [
      "Enter number of blocks 4\n",
      "50\n",
      "20\n",
      "100\n",
      "90\n"
     ]
    }
   ],
   "source": [
    "m= int(input(\"Enter number of blocks \"))\n",
    "blocks= []\n",
    "for i in range(m):\n",
    "    blocks.append(int(input()))"
   ]
  },
  {
   "cell_type": "code",
   "execution_count": 18,
   "id": "180acf57",
   "metadata": {},
   "outputs": [
    {
     "name": "stdout",
     "output_type": "stream",
     "text": [
      "Name  Size  Block\n",
      "P1    10    2\n",
      "P2    30    1\n",
      "P3    60    4\n",
      "P4    30    4\n"
     ]
    }
   ],
   "source": [
    "for i in process:\n",
    "    \n",
    "    dif= 100000\n",
    "    min_index= -1\n",
    "    for j in range (m):\n",
    "        \n",
    "        if(blocks[j]-i.size >= 0 and blocks[j]-i.size < dif):\n",
    "            dif= blocks[j]- i.size\n",
    "            min_index= j\n",
    "            \n",
    "    if(min_index== -1):\n",
    "        i.block= \"Not allocated\"\n",
    "        \n",
    "    else:\n",
    "        i.block= min_index+1\n",
    "        blocks[min_index]-= i.size\n",
    "        \n",
    "print(\"Name  Size  Block\")\n",
    "for i in process:\n",
    "    print(f\"{i.name}    {i.size}    {i.block}\")"
   ]
  },
  {
   "cell_type": "markdown",
   "id": "a66bba59",
   "metadata": {},
   "source": [
    "## Worst Fit"
   ]
  },
  {
   "cell_type": "code",
   "execution_count": 19,
   "id": "a275db61",
   "metadata": {},
   "outputs": [
    {
     "name": "stdout",
     "output_type": "stream",
     "text": [
      "Enter number of processes 4\n"
     ]
    }
   ],
   "source": [
    "n= int(input(\"Enter number of processes \"))"
   ]
  },
  {
   "cell_type": "code",
   "execution_count": 22,
   "id": "8624ff49",
   "metadata": {},
   "outputs": [
    {
     "name": "stdout",
     "output_type": "stream",
     "text": [
      "Enter process name P1\n",
      "Enter process size 212\n",
      "Enter process name P2\n",
      "Enter process size 417\n",
      "Enter process name P3\n",
      "Enter process size 112\n",
      "Enter process name P4\n",
      "Enter process size 426\n"
     ]
    }
   ],
   "source": [
    "arr= []\n",
    "\n",
    "for i in range(n):\n",
    "    name= input(\"Enter process name \")\n",
    "    size= int(input(\"Enter process size \"))\n",
    "    temp= pro(name, size)\n",
    "    arr.append(temp)"
   ]
  },
  {
   "cell_type": "code",
   "execution_count": 27,
   "id": "f65df83b",
   "metadata": {},
   "outputs": [
    {
     "name": "stdout",
     "output_type": "stream",
     "text": [
      "Enter number of blocks 5\n",
      "100\n",
      "500\n",
      "200\n",
      "300\n",
      "600\n"
     ]
    }
   ],
   "source": [
    "m= int(input(\"Enter number of blocks \"))\n",
    "blocks= []\n",
    "\n",
    "for i in range(m):\n",
    "    blocks.append(int(input(\"\")))"
   ]
  },
  {
   "cell_type": "code",
   "execution_count": 28,
   "id": "454e1e6c",
   "metadata": {},
   "outputs": [
    {
     "name": "stdout",
     "output_type": "stream",
     "text": [
      "Name  Size  Block\n",
      "P1    212    5\n",
      "P2    417    2\n",
      "P3    112    5\n",
      "P4    426    Not allocated\n"
     ]
    }
   ],
   "source": [
    "ans= []\n",
    "for i in arr:\n",
    "    \n",
    "    min_index= -1\n",
    "    dif= -100000\n",
    "    \n",
    "    for j in range(m):\n",
    "        \n",
    "        if(blocks[j]-i.size >= 0 and blocks[j]-i.size > dif):\n",
    "            min_index= j\n",
    "            dif= blocks[j]-i.size\n",
    "            \n",
    "    if(min_index== -1):\n",
    "        i.block= \"Not allocated\"\n",
    "        \n",
    "    else:\n",
    "        i.block= min_index+1\n",
    "        blocks[min_index]-= i.size\n",
    "        \n",
    "print(\"Name  Size  Block\")\n",
    "for i in arr:\n",
    "    print(f\"{i.name}    {i.size}    {i.block}\")"
   ]
  },
  {
   "cell_type": "markdown",
   "id": "08331af0",
   "metadata": {},
   "source": [
    "## Bankers Algorithm"
   ]
  },
  {
   "cell_type": "code",
   "execution_count": 43,
   "id": "8336e595",
   "metadata": {},
   "outputs": [],
   "source": [
    "class process():\n",
    "    \n",
    "    def __init__(self, name, allocated:list, maxx:list):\n",
    "        self.name= name\n",
    "        self.all= allocated\n",
    "        self.maxx= maxx\n",
    "        \n",
    "    def show(self):\n",
    "        print(f\"{self.name}  {self.all}  {self.maxx}\")"
   ]
  },
  {
   "cell_type": "code",
   "execution_count": 44,
   "id": "1bb3da8c",
   "metadata": {},
   "outputs": [
    {
     "name": "stdout",
     "output_type": "stream",
     "text": [
      "Enter number of resources 3\n"
     ]
    }
   ],
   "source": [
    "res= int(input(\"Enter number of resources \"))"
   ]
  },
  {
   "cell_type": "code",
   "execution_count": 45,
   "id": "9630351c",
   "metadata": {},
   "outputs": [
    {
     "name": "stdout",
     "output_type": "stream",
     "text": [
      "Enter number of processes 5\n",
      "Enter name P0\n",
      "0 1 0\n",
      "7 5 3\n",
      "Enter name P1\n",
      "2 0 0\n",
      "3 2 2\n",
      "Enter name P2\n",
      "3 0 2\n",
      "9 0 2\n",
      "Enter name P3\n",
      "2 1 1\n",
      "2 2 2\n",
      "Enter name P4\n",
      "0 0 2\n",
      "4 3 3\n"
     ]
    }
   ],
   "source": [
    "n= int(input(\"Enter number of processes \"))\n",
    "arr= []\n",
    "\n",
    "for i in range(n):\n",
    "    \n",
    "    name= input(\"Enter name \")\n",
    "    allocated= list(map(int, input().split()))\n",
    "    maxx= list(map(int, input().split()))\n",
    "    temp= process(name, allocated, maxx)\n",
    "    \n",
    "    arr.append(temp)"
   ]
  },
  {
   "cell_type": "code",
   "execution_count": 55,
   "id": "8a0dc145",
   "metadata": {},
   "outputs": [
    {
     "name": "stdout",
     "output_type": "stream",
     "text": [
      "Enter available 3 3 2\n"
     ]
    }
   ],
   "source": [
    "avail= list(map(int, input(\"Enter available \").split()))"
   ]
  },
  {
   "cell_type": "code",
   "execution_count": 56,
   "id": "ef83c714",
   "metadata": {},
   "outputs": [
    {
     "name": "stdout",
     "output_type": "stream",
     "text": [
      "Safe sequence:- \n",
      "P1 -> P3 -> P0 -> P2 -> P4 -> "
     ]
    }
   ],
   "source": [
    "ans= []\n",
    "\n",
    "while(len(ans)< n):\n",
    "    \n",
    "    found= False\n",
    "    for i in arr:\n",
    "        \n",
    "        if(i.name in ans):\n",
    "            continue\n",
    "        \n",
    "        b= True\n",
    "        \n",
    "        for j in range(res):\n",
    "            \n",
    "            if(i.maxx[j]- i.all[j] > avail[j]):\n",
    "                b= False\n",
    "                break\n",
    "            \n",
    "        \n",
    "        if(b):\n",
    "            ans.append(i.name)\n",
    "            \n",
    "            for j in range(res):\n",
    "                avail[j]+= i.all[j]\n",
    "            found= True\n",
    "            break\n",
    "                \n",
    "    if(found== False):\n",
    "        break\n",
    "\n",
    "if(len(ans)!= n):\n",
    "    print(\"No safe sequence possible \")\n",
    "    \n",
    "else:\n",
    "    print(\"Safe sequence:- \")\n",
    "    for j in ans:\n",
    "        print(f\"{j} -> \", end= '')"
   ]
  },
  {
   "cell_type": "markdown",
   "id": "ee88aeac",
   "metadata": {},
   "source": [
    "# Page Replacement"
   ]
  },
  {
   "cell_type": "markdown",
   "id": "55f22d3d",
   "metadata": {},
   "source": [
    "## 1)FIFO"
   ]
  },
  {
   "cell_type": "code",
   "execution_count": 2,
   "id": "7923b052",
   "metadata": {},
   "outputs": [
    {
     "name": "stdout",
     "output_type": "stream",
     "text": [
      "Enter number of pages 7\n",
      "1 3 0 3 5 6 3\n"
     ]
    }
   ],
   "source": [
    "n= int(input(\"Enter number of pages \"))\n",
    "arr= list(map(int, input().split()))"
   ]
  },
  {
   "cell_type": "code",
   "execution_count": 7,
   "id": "da2c687c",
   "metadata": {},
   "outputs": [
    {
     "name": "stdout",
     "output_type": "stream",
     "text": [
      "Enter the size of container 3\n"
     ]
    }
   ],
   "source": [
    "m= int(input(\"Enter the size of container \"))\n",
    "con= []"
   ]
  },
  {
   "cell_type": "code",
   "execution_count": 8,
   "id": "2af25bdc",
   "metadata": {},
   "outputs": [
    {
     "name": "stdout",
     "output_type": "stream",
     "text": [
      "Fault occured for 1 \n",
      "Fault occured for 3 \n",
      "Fault occured for 0 \n",
      "Fault occured for 5 \n",
      "1 was removed \n",
      "Fault occured for 6 \n",
      "3 was removed \n",
      "Fault occured for 3 \n",
      "0 was removed \n"
     ]
    }
   ],
   "source": [
    "fault= 0\n",
    "\n",
    "for i in arr:\n",
    "    \n",
    "    if(i in con):\n",
    "        continue\n",
    "    \n",
    "    fault+= 1   \n",
    "    print(f\"Fault occured for {i} \")\n",
    "    \n",
    "    if(len(con)== m):\n",
    "        print(f\"{con[0]} was removed \")\n",
    "        con.remove(con[0])\n",
    "    \n",
    "    con.append(i)"
   ]
  },
  {
   "cell_type": "code",
   "execution_count": 9,
   "id": "22fe614d",
   "metadata": {},
   "outputs": [
    {
     "name": "stdout",
     "output_type": "stream",
     "text": [
      "Total faults= 6\n"
     ]
    }
   ],
   "source": [
    "print(f\"Total faults= {fault}\")"
   ]
  },
  {
   "cell_type": "markdown",
   "id": "9a12bd80",
   "metadata": {},
   "source": [
    "## Booths algorithm"
   ]
  },
  {
   "cell_type": "code",
   "execution_count": 9,
   "id": "5eb285b3",
   "metadata": {},
   "outputs": [
    {
     "name": "stdout",
     "output_type": "stream",
     "text": [
      "Enter multiplicand 7\n",
      "Enter multiplier 3\n",
      "Enter size of register 4\n"
     ]
    }
   ],
   "source": [
    "M= int(input(\"Enter multiplicand \"))\n",
    "Q= int(input(\"Enter multiplier \"))\n",
    "n= int(input(\"Enter size of register \"))"
   ]
  },
  {
   "cell_type": "code",
   "execution_count": 10,
   "id": "21c8a599",
   "metadata": {},
   "outputs": [
    {
     "data": {
      "text/plain": [
       "'0000'"
      ]
     },
     "execution_count": 10,
     "metadata": {},
     "output_type": "execute_result"
    }
   ],
   "source": [
    "AC= \"\"\n",
    "for i in range(n):\n",
    "    AC+= '0'\n",
    "    \n",
    "AC"
   ]
  },
  {
   "cell_type": "code",
   "execution_count": 11,
   "id": "1a79c3d8",
   "metadata": {},
   "outputs": [],
   "source": [
    "M= bin(M)\n",
    "Q= bin(Q)"
   ]
  },
  {
   "cell_type": "code",
   "execution_count": 12,
   "id": "15b6fb75",
   "metadata": {},
   "outputs": [
    {
     "name": "stdout",
     "output_type": "stream",
     "text": [
      "111\n",
      "11\n"
     ]
    }
   ],
   "source": [
    "M= M[2:]\n",
    "Q= Q[2:]\n",
    "\n",
    "print(M)\n",
    "print(Q)"
   ]
  },
  {
   "cell_type": "code",
   "execution_count": 13,
   "id": "07943d1b",
   "metadata": {},
   "outputs": [
    {
     "name": "stdout",
     "output_type": "stream",
     "text": [
      "0111\n",
      "0011\n"
     ]
    }
   ],
   "source": [
    "while(len(M) < n):\n",
    "    M= '0' + M\n",
    "    \n",
    "while(len(Q) < n):\n",
    "    Q= '0' + Q\n",
    "    \n",
    "print(M)\n",
    "print(Q)"
   ]
  },
  {
   "cell_type": "code",
   "execution_count": 16,
   "id": "ecef1651",
   "metadata": {},
   "outputs": [],
   "source": [
    "def add(a, b):\n",
    "    \n",
    "    ans= \"\"\n",
    "    carry= '0'\n",
    "    for i in range(len(a)-1, -1, -1):\n",
    "        \n",
    "        if(a[i]== '0' and b[i]== '0'):\n",
    "            ans= carry + ans\n",
    "            carry= '0'\n",
    "            \n",
    "            \n",
    "        elif(a[i]== '1' and b[i]== '1'):\n",
    "            \n",
    "            ans= carry + ans\n",
    "            carry= '1'\n",
    "            \n",
    "        else:\n",
    "            \n",
    "            if(carry== '1'):\n",
    "                ans= '0' + ans\n",
    "                carry= '1'\n",
    "                \n",
    "            else:\n",
    "                ans= '1' + ans\n",
    "                carry= '0'\n",
    "                \n",
    "    return ans"
   ]
  },
  {
   "cell_type": "code",
   "execution_count": 20,
   "id": "9c42f0c0",
   "metadata": {},
   "outputs": [
    {
     "data": {
      "text/plain": [
       "'1001'"
      ]
     },
     "execution_count": 20,
     "metadata": {},
     "output_type": "execute_result"
    }
   ],
   "source": [
    "minus_M= \"\"\n",
    "\n",
    "for i in M:\n",
    "    if(i== '0'):\n",
    "        minus_M+= '1'\n",
    "        \n",
    "    else:\n",
    "        minus_M+= '0'\n",
    "\n",
    "        \n",
    "x= '1'\n",
    "for i in range(n-1):\n",
    "    x= '0' + x\n",
    "\n",
    "minus_M= add(minus_M, x)\n",
    "minus_M"
   ]
  },
  {
   "cell_type": "code",
   "execution_count": 21,
   "id": "9f97a43c",
   "metadata": {},
   "outputs": [
    {
     "data": {
      "text/plain": [
       "'00010101'"
      ]
     },
     "execution_count": 21,
     "metadata": {},
     "output_type": "execute_result"
    }
   ],
   "source": [
    "Q0= '0'\n",
    "\n",
    "for i in range(n):\n",
    "    \n",
    "    if(Q[n-1:] + Q0== '01'):\n",
    "        AC= add(AC, M)\n",
    "        \n",
    "    elif(Q[n-1:] + Q0== '10'):\n",
    "        AC= add(AC, minus_M)\n",
    "        \n",
    "    Q0= Q[n-1]\n",
    "    Q= AC[n-1] + Q[:n-1]\n",
    "    AC= AC[0] + AC[0:n-1]\n",
    "    \n",
    "ans= AC + Q\n",
    "ans"
   ]
  },
  {
   "cell_type": "code",
   "execution_count": 23,
   "id": "eb98b085",
   "metadata": {},
   "outputs": [
    {
     "name": "stdout",
     "output_type": "stream",
     "text": [
      "21\n"
     ]
    }
   ],
   "source": [
    "print(int(ans, 2))"
   ]
  },
  {
   "cell_type": "markdown",
   "id": "2d5cb979",
   "metadata": {},
   "source": [
    "## LRU"
   ]
  },
  {
   "cell_type": "code",
   "execution_count": 38,
   "id": "254cad33",
   "metadata": {},
   "outputs": [
    {
     "name": "stdout",
     "output_type": "stream",
     "text": [
      "Enter number of pages 13\n",
      "Enter pages 7 0 1 2 0 3 0 4 2 3 0 3 2\n",
      "Enter the size of container 4\n"
     ]
    }
   ],
   "source": [
    "n= int(input(\"Enter number of pages \"))\n",
    "arr= list(map(int, input(\"Enter pages \").split()))\n",
    "\n",
    "m= int(input(\"Enter the size of container \"))\n",
    "con= []"
   ]
  },
  {
   "cell_type": "code",
   "execution_count": 52,
   "id": "387f525f",
   "metadata": {},
   "outputs": [
    {
     "name": "stdout",
     "output_type": "stream",
     "text": [
      "Fault occured for 7\n",
      "Old list= []\n",
      "New list= [7]\n",
      "Fault occured for 0\n",
      "Old list= [7]\n",
      "New list= [7, 0]\n",
      "Fault occured for 1\n",
      "Old list= [7, 0]\n",
      "New list= [7, 0, 1]\n",
      "Fault occured for 2\n",
      "Old list= [7, 0, 1]\n",
      "New list= [7, 0, 1, 2]\n",
      "0 already exists \n",
      "Fault occured for 3\n",
      "Old list= [7, 0, 1, 2]\n",
      "7 was removed \n",
      "New list= [0, 1, 2, 3]\n",
      "0 already exists \n",
      "Fault occured for 4\n",
      "Old list= [0, 1, 2, 3]\n",
      "1 was removed \n",
      "New list= [0, 2, 3, 4]\n",
      "2 already exists \n",
      "3 already exists \n",
      "0 already exists \n",
      "3 already exists \n",
      "2 already exists \n",
      "Total faults= 6\n"
     ]
    }
   ],
   "source": [
    "fault= 0\n",
    "\n",
    "for i in range(n):\n",
    "    \n",
    "    if(arr[i] in con):\n",
    "        print(f\"{arr[i]} already exists \")\n",
    "        continue\n",
    "        \n",
    "    fault+= 1\n",
    "    print(f\"Fault occured for {arr[i]}\")\n",
    "    print(f\"Old list= {con}\")\n",
    "    \n",
    "    if(len(con) < m):\n",
    "        con.append(arr[i])\n",
    "        print(f\"New list= {con}\")\n",
    "        \n",
    "    else:\n",
    "        \n",
    "        last= []\n",
    "        for j in range(m):\n",
    "            \n",
    "            temp= -10000\n",
    "            for k in range(0, i):\n",
    "                \n",
    "                if(arr[k]== con[j] and k > temp):\n",
    "                    temp= k\n",
    "                    \n",
    "            last.append(temp)\n",
    "            \n",
    "        mini= 10000\n",
    "        index= 0\n",
    "        for j in range(m):\n",
    "            \n",
    "            if(last[j] < mini):\n",
    "                index= j\n",
    "                mini= last[j]\n",
    "        \n",
    "        print(f\"{con[index]} was removed \")\n",
    "        con.remove(con[index])\n",
    "        con.append(arr[i])\n",
    "        print(f\"New list= {con}\")\n",
    "        \n",
    "print(f\"Total faults= {fault}\")\n",
    "# 7, 0, 1, 2, 0, 3, 0, 4, 2, 3, 0, 3, 2"
   ]
  },
  {
   "cell_type": "markdown",
   "id": "ace74886",
   "metadata": {},
   "source": [
    "# Optimal"
   ]
  },
  {
   "cell_type": "code",
   "execution_count": 61,
   "id": "8c6e6918",
   "metadata": {},
   "outputs": [
    {
     "name": "stdout",
     "output_type": "stream",
     "text": [
      "Enter number of pages 13\n",
      "Enter pages7 0 1 2 0 3 0 4 2 3 0 3 2\n",
      "Enter size of container 4\n"
     ]
    }
   ],
   "source": [
    "n= int(input(\"Enter number of pages \"))\n",
    "arr= list(map(int, input(\"Enter pages\").split()))\n",
    "m= int(input(\"Enter size of container \"))"
   ]
  },
  {
   "cell_type": "code",
   "execution_count": 64,
   "id": "a7649bdd",
   "metadata": {},
   "outputs": [
    {
     "name": "stdout",
     "output_type": "stream",
     "text": [
      "Pages:- [7, 0, 1, 2, 0, 3, 0, 4, 2, 3, 0, 3, 2]\n",
      "Fault occured for 7 \n",
      "Old list []\n",
      "New list= [7]\n",
      "Fault occured for 0 \n",
      "Old list [7]\n",
      "New list= [7, 0]\n",
      "Fault occured for 1 \n",
      "Old list [7, 0]\n",
      "New list= [7, 0, 1]\n",
      "Fault occured for 2 \n",
      "Old list [7, 0, 1]\n",
      "New list= [7, 0, 1, 2]\n",
      "0 was found \n",
      "List:- [7, 0, 1, 2]\n",
      "Fault occured for 3 \n",
      "Old list [7, 0, 1, 2]\n",
      "7 was removed\n",
      "New list= [0, 1, 2, 3]\n",
      "0 was found \n",
      "List:- [0, 1, 2, 3]\n",
      "Fault occured for 4 \n",
      "Old list [0, 1, 2, 3]\n",
      "1 was removed\n",
      "New list= [0, 2, 3, 4]\n",
      "2 was found \n",
      "List:- [0, 2, 3, 4]\n",
      "3 was found \n",
      "List:- [0, 2, 3, 4]\n",
      "0 was found \n",
      "List:- [0, 2, 3, 4]\n",
      "3 was found \n",
      "List:- [0, 2, 3, 4]\n",
      "2 was found \n",
      "List:- [0, 2, 3, 4]\n",
      "Total faults= 6\n"
     ]
    }
   ],
   "source": [
    "con= []\n",
    "faults= 0\n",
    "\n",
    "print(f\"Pages:- {arr}\")\n",
    "for i in range(n):\n",
    "    \n",
    "    if(arr[i] in con):\n",
    "        print(f\"{arr[i]} was found \")\n",
    "        print(f\"List:- {con}\")\n",
    "        continue\n",
    "        \n",
    "    faults+= 1\n",
    "    print(f\"Fault occured for {arr[i]} \")\n",
    "    print(f\"Old list {con}\")\n",
    "    \n",
    "    if(len(con) < m):\n",
    "        con.append(arr[i])\n",
    "        print(f\"New list= {con}\")\n",
    "        continue\n",
    "        \n",
    "    least= []\n",
    "    \n",
    "    for j in con:\n",
    "        \n",
    "        temp= 10000\n",
    "        \n",
    "        for k in range(i+1, n):\n",
    "            \n",
    "            if(arr[k]== j):\n",
    "                temp= j\n",
    "                break\n",
    "                \n",
    "        least.append(temp)\n",
    "        \n",
    "    maxi= -1\n",
    "    index= 0\n",
    "    \n",
    "    for j in range(m):\n",
    "        \n",
    "        if(least[j] > maxi):\n",
    "            index= j\n",
    "            maxi= least[j]\n",
    "            \n",
    "            \n",
    "    print(f\"{con[index]} was removed\")\n",
    "    con.remove(con[index])\n",
    "    con.append(arr[i])\n",
    "    \n",
    "    print(f\"New list= {con}\")\n",
    "    \n",
    "print(f\"Total faults= {faults}\")"
   ]
  },
  {
   "cell_type": "code",
   "execution_count": null,
   "id": "49e08dce",
   "metadata": {},
   "outputs": [],
   "source": []
  }
 ],
 "metadata": {
  "kernelspec": {
   "display_name": "Python 3 (ipykernel)",
   "language": "python",
   "name": "python3"
  },
  "language_info": {
   "codemirror_mode": {
    "name": "ipython",
    "version": 3
   },
   "file_extension": ".py",
   "mimetype": "text/x-python",
   "name": "python",
   "nbconvert_exporter": "python",
   "pygments_lexer": "ipython3",
   "version": "3.9.13"
  }
 },
 "nbformat": 4,
 "nbformat_minor": 5
}
